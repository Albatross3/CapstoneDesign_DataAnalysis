{
 "cells": [
  {
   "cell_type": "code",
   "execution_count": 10,
   "id": "7b6de93f",
   "metadata": {},
   "outputs": [],
   "source": [
    "from scipy import io\n",
    "import numpy as np"
   ]
  },
  {
   "cell_type": "code",
   "execution_count": 3,
   "id": "b75a5689",
   "metadata": {},
   "outputs": [],
   "source": [
    "mat_file=io.loadmat('dataset/cardio.mat')"
   ]
  },
  {
   "cell_type": "code",
   "execution_count": 5,
   "id": "48ba2469",
   "metadata": {},
   "outputs": [
    {
     "data": {
      "text/plain": [
       "{'__header__': b'MATLAB 5.0 MAT-file, written by Octave 3.8.0, 2014-12-18 10:48:09 UTC',\n",
       " '__version__': '1.0',\n",
       " '__globals__': [],\n",
       " 'X': array([[ 0.00491231,  0.69319077, -0.20364049, ...,  0.23149795,\n",
       "         -0.28978574, -0.49329397],\n",
       "        [ 0.11072935, -0.07990259, -0.20364049, ...,  0.09356344,\n",
       "         -0.25638541, -0.49329397],\n",
       "        [ 0.21654639, -0.27244466, -0.20364049, ...,  0.02459619,\n",
       "         -0.25638541,  1.14001753],\n",
       "        ...,\n",
       "        [-0.41835583, -0.91998844, -0.16463485, ..., -1.49268341,\n",
       "          0.24461959, -0.49329397],\n",
       "        [-0.41835583, -0.91998844, -0.15093411, ..., -1.42371616,\n",
       "          0.14441859, -0.49329397],\n",
       "        [-0.41835583, -0.91998844, -0.20364049, ..., -1.28578165,\n",
       "          3.58465295, -0.49329397]]),\n",
       " 'y': array([[0.],\n",
       "        [0.],\n",
       "        [0.],\n",
       "        ...,\n",
       "        [1.],\n",
       "        [1.],\n",
       "        [1.]])}"
      ]
     },
     "execution_count": 5,
     "metadata": {},
     "output_type": "execute_result"
    }
   ],
   "source": [
    "mat_file"
   ]
  },
  {
   "cell_type": "code",
   "execution_count": 14,
   "id": "d6515850",
   "metadata": {},
   "outputs": [
    {
     "name": "stdout",
     "output_type": "stream",
     "text": [
      "(1831, 21)\n",
      "2\n",
      "38451\n"
     ]
    }
   ],
   "source": [
    "X=mat_file.get('X')\n",
    "print(X.shape)\n",
    "print(X.ndim)\n",
    "print(X.size)"
   ]
  },
  {
   "cell_type": "code",
   "execution_count": 16,
   "id": "e0de8f06",
   "metadata": {},
   "outputs": [
    {
     "data": {
      "text/plain": [
       "array([ 0.00491231,  0.69319077, -0.20364049,  0.59532212,  0.35318961,\n",
       "       -0.06140064, -0.27829495, -1.65044442,  0.75907246, -0.42048735,\n",
       "        0.37214916,  1.48597292, -0.79837645,  1.85472761,  0.62263103,\n",
       "        0.96308254,  0.30146435,  0.19311344,  0.23149795, -0.28978574,\n",
       "       -0.49329397])"
      ]
     },
     "execution_count": 16,
     "metadata": {},
     "output_type": "execute_result"
    }
   ],
   "source": [
    "X[0]"
   ]
  },
  {
   "cell_type": "code",
   "execution_count": 17,
   "id": "6ccdc3d7",
   "metadata": {},
   "outputs": [
    {
     "data": {
      "text/plain": [
       "array([ 0.11072935, -0.07990259, -0.20364049,  1.26894234,  0.39624557,\n",
       "       -0.06140064, -0.27829495, -1.71026988,  0.75907246, -0.42048735,\n",
       "        0.88279447,  1.48597292, -0.79837645,  1.85472761,  0.27862457,\n",
       "        0.96308254,  0.30146435,  0.12926535,  0.09356344, -0.25638541,\n",
       "       -0.49329397])"
      ]
     },
     "execution_count": 17,
     "metadata": {},
     "output_type": "execute_result"
    }
   ],
   "source": [
    "X[1]"
   ]
  }
 ],
 "metadata": {
  "kernelspec": {
   "display_name": "Python 3 (ipykernel)",
   "language": "python",
   "name": "python3"
  },
  "language_info": {
   "codemirror_mode": {
    "name": "ipython",
    "version": 3
   },
   "file_extension": ".py",
   "mimetype": "text/x-python",
   "name": "python",
   "nbconvert_exporter": "python",
   "pygments_lexer": "ipython3",
   "version": "3.8.12"
  }
 },
 "nbformat": 4,
 "nbformat_minor": 5
}
